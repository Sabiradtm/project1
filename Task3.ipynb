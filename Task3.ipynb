{
 "cells": [
  {
   "cell_type": "code",
   "execution_count": null,
   "id": "8bb9268c-5339-4559-8dd1-149de3daaff8",
   "metadata": {},
   "outputs": [],
   "source": [
    "#formating a Data Table"
   ]
  },
  {
   "cell_type": "code",
   "execution_count": 1,
   "id": "42639079-f31b-4022-b6ef-57175cbed460",
   "metadata": {},
   "outputs": [
    {
     "name": "stdout",
     "output_type": "stream",
     "text": [
      "                 Name  Age  Gendar Blood G    State        LG  Staff ID No  \\\n",
      "0         Aminu Atiku   30    male       o  Katsina  Dutsinma          211   \n",
      "1  Abubakar Abdullahi   34    male       o  Katsina  Dutsinma          212   \n",
      "2        Zainab Lawal   23  female       o  Katsina  Dutsinma          213   \n",
      "3       Ibrahim Kabir   54    male       A  Katsina  Dutsinma          214   \n",
      "4        Fatima Aliyu   25  female       B  Katsina  Dutsinma          234   \n",
      "5         Binta Tukur   43  female       B  Katsina  Dutsinma          251   \n",
      "6            Audu Abu   45    male       C  Katsina     Kurfi          272   \n",
      "7        Saminu Kabir   53    male       B     Kano      Dala          241   \n",
      "8         Ayuba Lawal   25    male       A     Kano      Rano          233   \n",
      "9        Khasim Kabir   45    male       o   Kaduna     Kudan          272   \n",
      "\n",
      "   Salary  Loan  \n",
      "0   20000  1000  \n",
      "1   20000  2000  \n",
      "2   20000  1000  \n",
      "3   20000  2000  \n",
      "4   20000  1000  \n",
      "5   20000  1000  \n",
      "6   20000  1000  \n",
      "7   20000  2000  \n",
      "8   20000  2000  \n",
      "9   20000  1000  \n"
     ]
    }
   ],
   "source": [
    "## creating DataFrame using python\n",
    "# Dataframe from a dictionary\n",
    "import pandas as pd\n",
    "am_as = {\"Name\" : [\"Aminu Atiku\", \"Abubakar Abdullahi\", \"Zainab Lawal\", \"Ibrahim Kabir\", \"Fatima Aliyu\", \"Binta Tukur\", \"Audu Abu\", \"Saminu Kabir\", \"Ayuba Lawal\", \"Khasim Kabir\"], \"Age\" : [30, 34, 23, 54, 25, 43, 45, 53, 25, 45], \"Gendar\" : [\"male\", \"male\", \"female\", \"male\", \"female\", \"female\", \"male\", \"male\", \"male\", \"male\"], \"Blood G\" : [\"o\", \"o\", \"o\", \"A\", \"B\", \"B\", \"C\", \"B\", \"A\", \"o\"], \"State\" : [\"Katsina\", \"Katsina\", \"Katsina\", \"Katsina\", \"Katsina\", \"Katsina\", \"Katsina\", \"Kano\", \"Kano\", \"Kaduna\"], \"LG\" : [\"Dutsinma\", \"Dutsinma\", \"Dutsinma\", \"Dutsinma\", \"Dutsinma\", \"Dutsinma\", \"Kurfi\", \"Dala\", \"Rano\", \"Kudan\"], \"Staff ID No\" : [211, 212, 213, 214, 234, 251, 272, 241, 233, 272], \"Salary\" : [20000, 20000, 20000, 20000, 20000, 20000, 20000, 20000, 20000, 20000], \"Loan\" : [1000, 2000, 1000, 2000, 1000, 1000, 1000, 2000, 2000, 1000]}\n",
    "df = pd.DataFrame(am_as)\n",
    "print(df)"
   ]
  },
  {
   "cell_type": "code",
   "execution_count": null,
   "id": "92e9206e-e5b0-4c6c-abc7-4ea16d7a49f4",
   "metadata": {},
   "outputs": [],
   "source": []
  }
 ],
 "metadata": {
  "kernelspec": {
   "display_name": "Python [conda env:base] *",
   "language": "python",
   "name": "conda-base-py"
  },
  "language_info": {
   "codemirror_mode": {
    "name": "ipython",
    "version": 3
   },
   "file_extension": ".py",
   "mimetype": "text/x-python",
   "name": "python",
   "nbconvert_exporter": "python",
   "pygments_lexer": "ipython3",
   "version": "3.12.7"
  }
 },
 "nbformat": 4,
 "nbformat_minor": 5
}
