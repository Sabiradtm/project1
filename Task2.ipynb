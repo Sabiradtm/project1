{
 "cells": [
  {
   "cell_type": "code",
   "execution_count": null,
   "id": "43f0a9b2-2262-4ca9-a031-198a54443688",
   "metadata": {},
   "outputs": [],
   "source": [
    "# Politiciant programme"
   ]
  },
  {
   "cell_type": "code",
   "execution_count": 1,
   "id": "251e8fc9-2420-4fe7-b192-fb385b7dceb5",
   "metadata": {},
   "outputs": [
    {
     "name": "stdout",
     "output_type": "stream",
     "text": [
      "welcome sir\n"
     ]
    }
   ],
   "source": [
    "person = \"president\"\n",
    "if person == \"Governor\":\n",
    "    print(\"welcome\")\n",
    "elif person == \"president\":\n",
    "    print(\"welcome sir\")\n",
    "else:\n",
    "    print(\"stay behind\")"
   ]
  },
  {
   "cell_type": "code",
   "execution_count": null,
   "id": "61d8c6f8-cd28-4765-9bc0-888b5c491743",
   "metadata": {},
   "outputs": [],
   "source": []
  }
 ],
 "metadata": {
  "kernelspec": {
   "display_name": "Python [conda env:base] *",
   "language": "python",
   "name": "conda-base-py"
  },
  "language_info": {
   "codemirror_mode": {
    "name": "ipython",
    "version": 3
   },
   "file_extension": ".py",
   "mimetype": "text/x-python",
   "name": "python",
   "nbconvert_exporter": "python",
   "pygments_lexer": "ipython3",
   "version": "3.12.7"
  }
 },
 "nbformat": 4,
 "nbformat_minor": 5
}
