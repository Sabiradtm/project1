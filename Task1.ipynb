{
 "cells": [
  {
   "cell_type": "code",
   "execution_count": null,
   "id": "eb05634f-d3da-4b01-9b7b-e217603edea4",
   "metadata": {},
   "outputs": [],
   "source": [
    "# swap case programme"
   ]
  },
  {
   "cell_type": "code",
   "execution_count": 1,
   "id": "afffa2bd-fdd1-4fc2-afcd-acc50897e04a",
   "metadata": {},
   "outputs": [
    {
     "name": "stdin",
     "output_type": "stream",
     "text": [
      "enter the first number: 5\n",
      "enter second number 15\n"
     ]
    },
    {
     "name": "stdout",
     "output_type": "stream",
     "text": [
      "\n",
      "Number before swapping:\n",
      "first number: 5\n",
      "second number: 15\n",
      "\n",
      "Number after swapping:\n",
      "first number: 15\n",
      "second number: 5\n"
     ]
    }
   ],
   "source": [
    "# programm to swap two number\n",
    "import numpy as np\n",
    "a = int(input('enter the first number:'))\n",
    "b = int(input('enter second number'))\n",
    "print(\"\\nNumber before swapping:\")\n",
    "print(\"first number:\", a)\n",
    "print(\"second number:\", b)\n",
    "(a,b) = (b,a)\n",
    "print(\"\\nNumber after swapping:\")\n",
    "print(\"first number:\", a)\n",
    "print(\"second number:\", b)"
   ]
  },
  {
   "cell_type": "code",
   "execution_count": null,
   "id": "41e76530-1efa-47e9-9cf7-e63fc315f8b0",
   "metadata": {},
   "outputs": [],
   "source": []
  }
 ],
 "metadata": {
  "kernelspec": {
   "display_name": "Python [conda env:base] *",
   "language": "python",
   "name": "conda-base-py"
  },
  "language_info": {
   "codemirror_mode": {
    "name": "ipython",
    "version": 3
   },
   "file_extension": ".py",
   "mimetype": "text/x-python",
   "name": "python",
   "nbconvert_exporter": "python",
   "pygments_lexer": "ipython3",
   "version": "3.12.7"
  }
 },
 "nbformat": 4,
 "nbformat_minor": 5
}
